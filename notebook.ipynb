{
 "cells": [
  {
   "cell_type": "markdown",
   "id": "3a40c1fb",
   "metadata": {},
   "source": [
    "# Consulta e Preparação de Dados\n",
    "### CMC-13 - Introdução à Ciência de Dados\n",
    "\n",
    "* Emanuel Reinaldo Gomes Bezerra\n",
    "* Pedro Pinheiro Borges"
   ]
  },
  {
   "cell_type": "code",
   "execution_count": 1,
   "id": "c2641af9",
   "metadata": {},
   "outputs": [],
   "source": [
    "import pandas as pd\n",
    "from sklearn.model_selection import train_test_split\n",
    "from sklearn.preprocessing import LabelEncoder, MinMaxScaler"
   ]
  },
  {
   "cell_type": "markdown",
   "id": "294e4617",
   "metadata": {},
   "source": [
    "### Leitura dos Arquivos de Dados"
   ]
  },
  {
   "cell_type": "code",
   "execution_count": 2,
   "id": "f23e26c7",
   "metadata": {},
   "outputs": [],
   "source": [
    "books = pd.read_csv(\"datasets/books.csv\", delimiter=';')\n",
    "users = pd.read_csv(\"datasets/users.csv\", delimiter=';')\n",
    "ratings = pd.read_csv(\"datasets/ratings.csv\", delimiter=';')"
   ]
  },
  {
   "cell_type": "code",
   "execution_count": 3,
   "id": "c240dd79",
   "metadata": {},
   "outputs": [
    {
     "data": {
      "text/plain": [
       "(Index(['isbn', 'book_title', 'book_author', 'year_of_publication', 'publisher',\n",
       "        'img_l', 'Language', 'Category'],\n",
       "       dtype='object'),\n",
       " Index(['user_id', 'age', 'city', 'state', 'country'], dtype='object'),\n",
       " Index(['isbn', 'user_id', 'rating'], dtype='object'))"
      ]
     },
     "execution_count": 3,
     "metadata": {},
     "output_type": "execute_result"
    }
   ],
   "source": [
    "books.columns, users.columns, ratings.columns"
   ]
  },
  {
   "cell_type": "markdown",
   "id": "2e968cc1",
   "metadata": {},
   "source": [
    "### Criação do Dataset principal"
   ]
  },
  {
   "cell_type": "code",
   "execution_count": 4,
   "id": "099e5e2d",
   "metadata": {},
   "outputs": [],
   "source": [
    "ratings_users = pd.merge(ratings, users, on=\"user_id\", how=\"inner\")\n",
    "dataset = pd.merge(ratings_users, books, on=\"isbn\", how=\"inner\").dropna()"
   ]
  },
  {
   "cell_type": "code",
   "execution_count": 5,
   "id": "a40c0967",
   "metadata": {},
   "outputs": [
    {
     "name": "stdout",
     "output_type": "stream",
     "text": [
      "<class 'pandas.core.frame.DataFrame'>\n",
      "Index: 19720 entries, 0 to 20701\n",
      "Data columns (total 14 columns):\n",
      " #   Column               Non-Null Count  Dtype  \n",
      "---  ------               --------------  -----  \n",
      " 0   isbn                 19720 non-null  object \n",
      " 1   user_id              19720 non-null  int64  \n",
      " 2   rating               19720 non-null  int64  \n",
      " 3   age                  19720 non-null  float64\n",
      " 4   city                 19720 non-null  object \n",
      " 5   state                19720 non-null  object \n",
      " 6   country              19720 non-null  object \n",
      " 7   book_title           19720 non-null  object \n",
      " 8   book_author          19720 non-null  object \n",
      " 9   year_of_publication  19720 non-null  float64\n",
      " 10  publisher            19720 non-null  object \n",
      " 11  img_l                19720 non-null  object \n",
      " 12  Language             19720 non-null  object \n",
      " 13  Category             19720 non-null  object \n",
      "dtypes: float64(2), int64(2), object(10)\n",
      "memory usage: 2.3+ MB\n"
     ]
    }
   ],
   "source": [
    "dataset.info()"
   ]
  },
  {
   "cell_type": "markdown",
   "id": "bce8bd5a",
   "metadata": {},
   "source": [
    "#### Remoção de Colunas\n",
    "Removemos ``isbn`` e ``user_id`` pois são identificadores e não possuem informação atrelada a eles.\n",
    "\n",
    "Removemos ``img_l`` porque é apenas um link para a imagem da capa do livro, sem informação atrelada ao livro.\n",
    "\n",
    "Removemos ``Language`` porque apresenta dois valores únicos (``en`` e ``9``) com pouca ou nenhuma informação atrelada, pois ``9`` não é um indicativo adequado para idioma."
   ]
  },
  {
   "cell_type": "code",
   "execution_count": 6,
   "id": "f52f5222",
   "metadata": {},
   "outputs": [
    {
     "data": {
      "text/plain": [
       "array(['en', '9'], dtype=object)"
      ]
     },
     "execution_count": 6,
     "metadata": {},
     "output_type": "execute_result"
    }
   ],
   "source": [
    "dataset.Language.unique()"
   ]
  },
  {
   "cell_type": "code",
   "execution_count": 7,
   "id": "5a0bb595",
   "metadata": {},
   "outputs": [],
   "source": [
    "dataset = dataset.drop(columns=[\"isbn\", \"user_id\", \"img_l\", \"Language\"])"
   ]
  },
  {
   "cell_type": "markdown",
   "id": "c7b9de01",
   "metadata": {},
   "source": [
    "Removemos as colunas ``city``, ``state``, ``country``, porque não estamos interessados em utilizar localização para determinar a avaliação de uma pessoa em um dado livro."
   ]
  },
  {
   "cell_type": "code",
   "execution_count": 8,
   "id": "e8fa5173",
   "metadata": {},
   "outputs": [
    {
     "name": "stdout",
     "output_type": "stream",
     "text": [
      "147 652 5616\n"
     ]
    }
   ],
   "source": [
    "print(len(dataset.country.unique()), len(dataset.state.unique()), len(dataset.city.unique()))"
   ]
  },
  {
   "cell_type": "code",
   "execution_count": 9,
   "id": "796014d7",
   "metadata": {},
   "outputs": [],
   "source": [
    "dataset = dataset.drop(columns=[\"country\", \"state\", \"city\"])"
   ]
  },
  {
   "cell_type": "markdown",
   "id": "f37eb3cf",
   "metadata": {},
   "source": [
    "Análise das colunas ``book_author``, ``book_title``, ``Category`` e ``publisher``\n",
    "* Existem algumas linhas cujo ``Category`` é ``9``. Iremos remover esses exemplares porque isto aparenta ser problema de qualidade dos dados.\n",
    "* A primeira transformação a ser feita é transformar todas os caracteres para minúsculo e remover espaços extras\n",
    "* Devido ao grande número de tipos dessas propriedades, não é recomendado utilizar one-hot encoding porque gera esparsidade nos dados.\n",
    "* Para esses campos, posso fazer as transformações: \n",
    "  * Label Encoding\n",
    "  * Embeddings, se quiser usar redes neurais, também pode funcionar bem com árvores utilizando embeddings pré treinados.\n",
    "* Problema: temos poucos dados. Precisaríamos utilizar PCA depois de gerar os embeddings para reduzir sua dimensão por conta da maldição da dimensionalidade. Por isso usaremos Label Encoding."
   ]
  },
  {
   "cell_type": "code",
   "execution_count": 10,
   "id": "e60035bf",
   "metadata": {},
   "outputs": [],
   "source": [
    "dataset = dataset[dataset[\"Category\"] != \"9\"].reset_index(drop=True)"
   ]
  },
  {
   "cell_type": "code",
   "execution_count": 11,
   "id": "ef3995c6",
   "metadata": {},
   "outputs": [],
   "source": [
    "dataset.book_title = dataset.book_title.str.lower().str.strip()\n",
    "dataset.book_author = dataset.book_author.str.lower().str.strip()\n",
    "dataset.Category = dataset.Category.str.lower().str.strip()"
   ]
  },
  {
   "cell_type": "markdown",
   "id": "d43fc27e",
   "metadata": {},
   "source": [
    "### Visualizações dos Dados e Análise exploratória"
   ]
  },
  {
   "cell_type": "markdown",
   "id": "b3d8fb80",
   "metadata": {},
   "source": [
    "precisa analisar o year_of_publication e age e verificar se ele é uma feature relevante ou nao (analisando se o rating muda conforme ele, agrupando em grupos de 5 ou 10 anos, etc), pode deletar elas se for o caso, se for usar precisaremos deixar entre 0 e 1 para ficar tudo na mesma escala\n"
   ]
  },
  {
   "cell_type": "code",
   "execution_count": null,
   "id": "062088b9",
   "metadata": {},
   "outputs": [],
   "source": []
  },
  {
   "cell_type": "markdown",
   "id": "a52a386a",
   "metadata": {},
   "source": [
    "#### Label Encoding"
   ]
  },
  {
   "cell_type": "code",
   "execution_count": 12,
   "id": "700bf22d",
   "metadata": {},
   "outputs": [],
   "source": [
    "le_book_title = LabelEncoder()\n",
    "le_book_author = LabelEncoder()\n",
    "le_category = LabelEncoder()\n",
    "le_publisher = LabelEncoder()\n",
    "\n",
    "dataset['book_title_encoded'] = le_book_title.fit_transform(dataset['book_title'])\n",
    "dataset['book_author_encoded'] = le_book_author.fit_transform(dataset['book_author'])\n",
    "dataset['category_encoded'] = le_category.fit_transform(dataset['Category'])\n",
    "dataset['publisher_encoded'] = le_publisher.fit_transform(dataset['publisher'])"
   ]
  },
  {
   "cell_type": "markdown",
   "id": "b3aac587",
   "metadata": {},
   "source": [
    "Aplicando ``MinMaxScaler`` para garantir que os números estejam entre 0 e 1"
   ]
  },
  {
   "cell_type": "code",
   "execution_count": 13,
   "id": "03cde9ef",
   "metadata": {},
   "outputs": [],
   "source": [
    "sc_book_title = MinMaxScaler()\n",
    "sc_book_author = MinMaxScaler()\n",
    "sc_category = MinMaxScaler()\n",
    "sc_publisher = MinMaxScaler()\n",
    "\n",
    "dataset['book_title_encoded'] = sc_book_title.fit_transform(dataset[['book_title_encoded']])\n",
    "dataset['book_author_encoded'] = sc_book_author.fit_transform(dataset[['book_author_encoded']])\n",
    "dataset['category_encoded'] = sc_category.fit_transform(dataset[['category_encoded']])\n",
    "dataset['publisher_encoded'] = sc_publisher.fit_transform(dataset[['publisher_encoded']])"
   ]
  },
  {
   "cell_type": "markdown",
   "id": "d6eb754b",
   "metadata": {},
   "source": [
    "#### Salvando os dados"
   ]
  },
  {
   "cell_type": "code",
   "execution_count": 14,
   "id": "54f4a98b",
   "metadata": {},
   "outputs": [
    {
     "data": {
      "text/html": [
       "<div>\n",
       "<style scoped>\n",
       "    .dataframe tbody tr th:only-of-type {\n",
       "        vertical-align: middle;\n",
       "    }\n",
       "\n",
       "    .dataframe tbody tr th {\n",
       "        vertical-align: top;\n",
       "    }\n",
       "\n",
       "    .dataframe thead th {\n",
       "        text-align: right;\n",
       "    }\n",
       "</style>\n",
       "<table border=\"1\" class=\"dataframe\">\n",
       "  <thead>\n",
       "    <tr style=\"text-align: right;\">\n",
       "      <th></th>\n",
       "      <th>rating</th>\n",
       "      <th>age</th>\n",
       "      <th>book_title</th>\n",
       "      <th>book_author</th>\n",
       "      <th>year_of_publication</th>\n",
       "      <th>publisher</th>\n",
       "      <th>Category</th>\n",
       "      <th>book_title_encoded</th>\n",
       "      <th>book_author_encoded</th>\n",
       "      <th>category_encoded</th>\n",
       "      <th>publisher_encoded</th>\n",
       "    </tr>\n",
       "  </thead>\n",
       "  <tbody>\n",
       "    <tr>\n",
       "      <th>0</th>\n",
       "      <td>5</td>\n",
       "      <td>34.7439</td>\n",
       "      <td>the testament</td>\n",
       "      <td>john grisham</td>\n",
       "      <td>1999.0</td>\n",
       "      <td>Dell</td>\n",
       "      <td>['fiction']</td>\n",
       "      <td>0.880062</td>\n",
       "      <td>0.46732</td>\n",
       "      <td>0.54902</td>\n",
       "      <td>0.176</td>\n",
       "    </tr>\n",
       "    <tr>\n",
       "      <th>1</th>\n",
       "      <td>10</td>\n",
       "      <td>39.0000</td>\n",
       "      <td>the testament</td>\n",
       "      <td>john grisham</td>\n",
       "      <td>1999.0</td>\n",
       "      <td>Dell</td>\n",
       "      <td>['fiction']</td>\n",
       "      <td>0.880062</td>\n",
       "      <td>0.46732</td>\n",
       "      <td>0.54902</td>\n",
       "      <td>0.176</td>\n",
       "    </tr>\n",
       "    <tr>\n",
       "      <th>2</th>\n",
       "      <td>0</td>\n",
       "      <td>34.7439</td>\n",
       "      <td>the testament</td>\n",
       "      <td>john grisham</td>\n",
       "      <td>1999.0</td>\n",
       "      <td>Dell</td>\n",
       "      <td>['fiction']</td>\n",
       "      <td>0.880062</td>\n",
       "      <td>0.46732</td>\n",
       "      <td>0.54902</td>\n",
       "      <td>0.176</td>\n",
       "    </tr>\n",
       "    <tr>\n",
       "      <th>3</th>\n",
       "      <td>0</td>\n",
       "      <td>34.7439</td>\n",
       "      <td>the testament</td>\n",
       "      <td>john grisham</td>\n",
       "      <td>1999.0</td>\n",
       "      <td>Dell</td>\n",
       "      <td>['fiction']</td>\n",
       "      <td>0.880062</td>\n",
       "      <td>0.46732</td>\n",
       "      <td>0.54902</td>\n",
       "      <td>0.176</td>\n",
       "    </tr>\n",
       "    <tr>\n",
       "      <th>4</th>\n",
       "      <td>8</td>\n",
       "      <td>53.0000</td>\n",
       "      <td>the testament</td>\n",
       "      <td>john grisham</td>\n",
       "      <td>1999.0</td>\n",
       "      <td>Dell</td>\n",
       "      <td>['fiction']</td>\n",
       "      <td>0.880062</td>\n",
       "      <td>0.46732</td>\n",
       "      <td>0.54902</td>\n",
       "      <td>0.176</td>\n",
       "    </tr>\n",
       "  </tbody>\n",
       "</table>\n",
       "</div>"
      ],
      "text/plain": [
       "   rating      age     book_title   book_author  year_of_publication  \\\n",
       "0       5  34.7439  the testament  john grisham               1999.0   \n",
       "1      10  39.0000  the testament  john grisham               1999.0   \n",
       "2       0  34.7439  the testament  john grisham               1999.0   \n",
       "3       0  34.7439  the testament  john grisham               1999.0   \n",
       "4       8  53.0000  the testament  john grisham               1999.0   \n",
       "\n",
       "  publisher     Category  book_title_encoded  book_author_encoded  \\\n",
       "0      Dell  ['fiction']            0.880062              0.46732   \n",
       "1      Dell  ['fiction']            0.880062              0.46732   \n",
       "2      Dell  ['fiction']            0.880062              0.46732   \n",
       "3      Dell  ['fiction']            0.880062              0.46732   \n",
       "4      Dell  ['fiction']            0.880062              0.46732   \n",
       "\n",
       "   category_encoded  publisher_encoded  \n",
       "0           0.54902              0.176  \n",
       "1           0.54902              0.176  \n",
       "2           0.54902              0.176  \n",
       "3           0.54902              0.176  \n",
       "4           0.54902              0.176  "
      ]
     },
     "execution_count": 14,
     "metadata": {},
     "output_type": "execute_result"
    }
   ],
   "source": [
    "dataset.head()"
   ]
  },
  {
   "cell_type": "code",
   "execution_count": 15,
   "id": "e75e69f8",
   "metadata": {},
   "outputs": [],
   "source": [
    "dataset = dataset[[\"age\", \"year_of_publication\", \"book_title_encoded\", \"book_author_encoded\", \"category_encoded\", \"publisher_encoded\", \"rating\"]]\n",
    "dataset_x = dataset[[\"age\", \"year_of_publication\", \"book_title_encoded\", \"book_author_encoded\", \"category_encoded\", \"publisher_encoded\"]]\n",
    "dataset_y = dataset[[\"rating\"]]"
   ]
  },
  {
   "cell_type": "code",
   "execution_count": 16,
   "id": "2ba9e8d7",
   "metadata": {},
   "outputs": [
    {
     "data": {
      "text/html": [
       "<div>\n",
       "<style scoped>\n",
       "    .dataframe tbody tr th:only-of-type {\n",
       "        vertical-align: middle;\n",
       "    }\n",
       "\n",
       "    .dataframe tbody tr th {\n",
       "        vertical-align: top;\n",
       "    }\n",
       "\n",
       "    .dataframe thead th {\n",
       "        text-align: right;\n",
       "    }\n",
       "</style>\n",
       "<table border=\"1\" class=\"dataframe\">\n",
       "  <thead>\n",
       "    <tr style=\"text-align: right;\">\n",
       "      <th></th>\n",
       "      <th>age</th>\n",
       "      <th>year_of_publication</th>\n",
       "      <th>book_title_encoded</th>\n",
       "      <th>book_author_encoded</th>\n",
       "      <th>category_encoded</th>\n",
       "      <th>publisher_encoded</th>\n",
       "      <th>rating</th>\n",
       "    </tr>\n",
       "  </thead>\n",
       "  <tbody>\n",
       "    <tr>\n",
       "      <th>0</th>\n",
       "      <td>34.7439</td>\n",
       "      <td>1999.0</td>\n",
       "      <td>0.880062</td>\n",
       "      <td>0.46732</td>\n",
       "      <td>0.54902</td>\n",
       "      <td>0.176</td>\n",
       "      <td>5</td>\n",
       "    </tr>\n",
       "    <tr>\n",
       "      <th>1</th>\n",
       "      <td>39.0000</td>\n",
       "      <td>1999.0</td>\n",
       "      <td>0.880062</td>\n",
       "      <td>0.46732</td>\n",
       "      <td>0.54902</td>\n",
       "      <td>0.176</td>\n",
       "      <td>10</td>\n",
       "    </tr>\n",
       "    <tr>\n",
       "      <th>2</th>\n",
       "      <td>34.7439</td>\n",
       "      <td>1999.0</td>\n",
       "      <td>0.880062</td>\n",
       "      <td>0.46732</td>\n",
       "      <td>0.54902</td>\n",
       "      <td>0.176</td>\n",
       "      <td>0</td>\n",
       "    </tr>\n",
       "    <tr>\n",
       "      <th>3</th>\n",
       "      <td>34.7439</td>\n",
       "      <td>1999.0</td>\n",
       "      <td>0.880062</td>\n",
       "      <td>0.46732</td>\n",
       "      <td>0.54902</td>\n",
       "      <td>0.176</td>\n",
       "      <td>0</td>\n",
       "    </tr>\n",
       "    <tr>\n",
       "      <th>4</th>\n",
       "      <td>53.0000</td>\n",
       "      <td>1999.0</td>\n",
       "      <td>0.880062</td>\n",
       "      <td>0.46732</td>\n",
       "      <td>0.54902</td>\n",
       "      <td>0.176</td>\n",
       "      <td>8</td>\n",
       "    </tr>\n",
       "  </tbody>\n",
       "</table>\n",
       "</div>"
      ],
      "text/plain": [
       "       age  year_of_publication  book_title_encoded  book_author_encoded  \\\n",
       "0  34.7439               1999.0            0.880062              0.46732   \n",
       "1  39.0000               1999.0            0.880062              0.46732   \n",
       "2  34.7439               1999.0            0.880062              0.46732   \n",
       "3  34.7439               1999.0            0.880062              0.46732   \n",
       "4  53.0000               1999.0            0.880062              0.46732   \n",
       "\n",
       "   category_encoded  publisher_encoded  rating  \n",
       "0           0.54902              0.176       5  \n",
       "1           0.54902              0.176      10  \n",
       "2           0.54902              0.176       0  \n",
       "3           0.54902              0.176       0  \n",
       "4           0.54902              0.176       8  "
      ]
     },
     "execution_count": 16,
     "metadata": {},
     "output_type": "execute_result"
    }
   ],
   "source": [
    "dataset.head()"
   ]
  },
  {
   "cell_type": "code",
   "execution_count": 17,
   "id": "fd1f2e92",
   "metadata": {},
   "outputs": [],
   "source": [
    "X_train, X_test, y_train, y_test = train_test_split(dataset_x, dataset_y, test_size=0.2, random_state=1)\n",
    "dados_treinamento = X_train.join(y_train)\n",
    "dados_teste = X_test.join(y_test)"
   ]
  },
  {
   "cell_type": "code",
   "execution_count": 18,
   "id": "0e68cbc3",
   "metadata": {},
   "outputs": [],
   "source": [
    "dataset.to_csv(\"datasets/dataset.csv\", index=False)\n",
    "dados_teste.to_csv(\"datasets/dados_teste.csv\", index=False)\n",
    "dados_treinamento.to_csv(\"datasets/dados_treinamento.csv\", index=False)"
   ]
  }
 ],
 "metadata": {
  "kernelspec": {
   "display_name": "cmc13",
   "language": "python",
   "name": "python3"
  },
  "language_info": {
   "codemirror_mode": {
    "name": "ipython",
    "version": 3
   },
   "file_extension": ".py",
   "mimetype": "text/x-python",
   "name": "python",
   "nbconvert_exporter": "python",
   "pygments_lexer": "ipython3",
   "version": "3.12.9"
  }
 },
 "nbformat": 4,
 "nbformat_minor": 5
}
