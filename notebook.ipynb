{
 "cells": [
  {
   "cell_type": "markdown",
   "id": "3a40c1fb",
   "metadata": {},
   "source": [
    "# Consulta e Preparação de Dados\n",
    "### CMC-13 - Introdução à Ciência de Dados\n",
    "\n",
    "* Emanuel Reinaldo Gomes Bezerra\n",
    "* Pedro Pinheiro Borges"
   ]
  },
  {
   "cell_type": "code",
   "execution_count": 40,
   "id": "c2641af9",
   "metadata": {},
   "outputs": [],
   "source": [
    "import pandas as pd"
   ]
  },
  {
   "cell_type": "markdown",
   "id": "294e4617",
   "metadata": {},
   "source": [
    "### Leitura dos Arquivos de Dados"
   ]
  },
  {
   "cell_type": "code",
   "execution_count": 41,
   "id": "f23e26c7",
   "metadata": {},
   "outputs": [],
   "source": [
    "books = pd.read_csv(\"datasets/books.csv\", delimiter=';')\n",
    "users = pd.read_csv(\"datasets/users.csv\", delimiter=';')\n",
    "ratings = pd.read_csv(\"datasets/ratings.csv\", delimiter=';')"
   ]
  },
  {
   "cell_type": "code",
   "execution_count": 42,
   "id": "c240dd79",
   "metadata": {},
   "outputs": [
    {
     "data": {
      "text/plain": [
       "(Index(['isbn', 'book_title', 'book_author', 'year_of_publication', 'publisher',\n",
       "        'img_l', 'Language', 'Category'],\n",
       "       dtype='object'),\n",
       " Index(['user_id', 'age', 'city', 'state', 'country'], dtype='object'),\n",
       " Index(['isbn', 'user_id', 'rating'], dtype='object'))"
      ]
     },
     "execution_count": 42,
     "metadata": {},
     "output_type": "execute_result"
    }
   ],
   "source": [
    "books.columns, users.columns, ratings.columns"
   ]
  },
  {
   "cell_type": "markdown",
   "id": "2e968cc1",
   "metadata": {},
   "source": [
    "### Criação do Dataset principal"
   ]
  },
  {
   "cell_type": "code",
   "execution_count": 43,
   "id": "099e5e2d",
   "metadata": {},
   "outputs": [],
   "source": [
    "ratings_users = pd.merge(ratings, users, on=\"user_id\", how=\"inner\")\n",
    "dataset = pd.merge(ratings_users, books, on=\"isbn\", how=\"inner\").dropna()"
   ]
  },
  {
   "cell_type": "code",
   "execution_count": 44,
   "id": "a40c0967",
   "metadata": {},
   "outputs": [
    {
     "name": "stdout",
     "output_type": "stream",
     "text": [
      "<class 'pandas.core.frame.DataFrame'>\n",
      "Index: 19720 entries, 0 to 20701\n",
      "Data columns (total 14 columns):\n",
      " #   Column               Non-Null Count  Dtype  \n",
      "---  ------               --------------  -----  \n",
      " 0   isbn                 19720 non-null  object \n",
      " 1   user_id              19720 non-null  int64  \n",
      " 2   rating               19720 non-null  int64  \n",
      " 3   age                  19720 non-null  float64\n",
      " 4   city                 19720 non-null  object \n",
      " 5   state                19720 non-null  object \n",
      " 6   country              19720 non-null  object \n",
      " 7   book_title           19720 non-null  object \n",
      " 8   book_author          19720 non-null  object \n",
      " 9   year_of_publication  19720 non-null  float64\n",
      " 10  publisher            19720 non-null  object \n",
      " 11  img_l                19720 non-null  object \n",
      " 12  Language             19720 non-null  object \n",
      " 13  Category             19720 non-null  object \n",
      "dtypes: float64(2), int64(2), object(10)\n",
      "memory usage: 2.3+ MB\n"
     ]
    }
   ],
   "source": [
    "dataset.info()"
   ]
  },
  {
   "cell_type": "markdown",
   "id": "bce8bd5a",
   "metadata": {},
   "source": [
    "#### Remoção de Colunas\n",
    "Removemos ``isbn`` e ``user_id`` pois são identificadores e não possuem informação atrelada a eles.\n",
    "\n",
    "Removemos ``img_l`` porque é apenas um link para a imagem da capa do livro, sem informação atrelada ao livro.\n",
    "\n",
    "Removemos ``Language`` porque apresenta dois valores únicos (``en`` e ``9``) com pouca ou nenhuma informação atrelada, pois ``9`` não é um indicativo adequado para idioma."
   ]
  },
  {
   "cell_type": "code",
   "execution_count": 45,
   "id": "f52f5222",
   "metadata": {},
   "outputs": [
    {
     "data": {
      "text/plain": [
       "array(['en', '9'], dtype=object)"
      ]
     },
     "execution_count": 45,
     "metadata": {},
     "output_type": "execute_result"
    }
   ],
   "source": [
    "dataset.Language.unique()"
   ]
  },
  {
   "cell_type": "code",
   "execution_count": 46,
   "id": "5a0bb595",
   "metadata": {},
   "outputs": [],
   "source": [
    "dataset = dataset.drop(columns=[\"isbn\", \"user_id\", \"Language\", \"img_l\"])"
   ]
  },
  {
   "cell_type": "markdown",
   "id": "c7b9de01",
   "metadata": {},
   "source": [
    "Removemos as colunas ``city``, ``state``, ``country``"
   ]
  },
  {
   "cell_type": "code",
   "execution_count": 47,
   "id": "e8fa5173",
   "metadata": {},
   "outputs": [
    {
     "name": "stdout",
     "output_type": "stream",
     "text": [
      "147 652 5616\n"
     ]
    }
   ],
   "source": [
    "print(len(dataset.country.unique()), len(dataset.state.unique()), len(dataset.city.unique()))"
   ]
  },
  {
   "cell_type": "code",
   "execution_count": 51,
   "id": "796014d7",
   "metadata": {},
   "outputs": [],
   "source": [
    "dataset = dataset.drop(columns=[\"country\", \"state\", \"city\"])"
   ]
  },
  {
   "cell_type": "markdown",
   "id": "f37eb3cf",
   "metadata": {},
   "source": [
    "Análise das colunas ``book_author`` e ``book_title``"
   ]
  },
  {
   "cell_type": "code",
   "execution_count": 75,
   "id": "ef3995c6",
   "metadata": {},
   "outputs": [
    {
     "data": {
      "text/plain": [
       "426"
      ]
     },
     "execution_count": 75,
     "metadata": {},
     "output_type": "execute_result"
    }
   ],
   "source": [
    "len(dataset.book_author.unique())"
   ]
  },
  {
   "cell_type": "code",
   "execution_count": 74,
   "id": "80105d6b",
   "metadata": {},
   "outputs": [
    {
     "data": {
      "text/plain": [
       "387"
      ]
     },
     "execution_count": 74,
     "metadata": {},
     "output_type": "execute_result"
    }
   ],
   "source": [
    "len(dataset.book_author.str.lower().unique())"
   ]
  },
  {
   "cell_type": "code",
   "execution_count": 67,
   "id": "7748042c",
   "metadata": {},
   "outputs": [
    {
     "data": {
      "text/plain": [
       "<Axes: xlabel='age', ylabel='rating'>"
      ]
     },
     "execution_count": 67,
     "metadata": {},
     "output_type": "execute_result"
    },
    {
     "data": {
      "image/png": "[encoded data removed]",
      "text/plain": [
       "<Figure size 640x480 with 1 Axes>"
      ]
     },
     "metadata": {},
     "output_type": "display_data"
    }
   ],
   "source": [
    "dataset.plot(y=\"rating\", x=\"age\", kind=\"scatter\")"
   ]
  },
  {
   "cell_type": "code",
   "execution_count": null,
   "id": "b17ee8b4",
   "metadata": {},
   "outputs": [],
   "source": []
  }
 ],
 "metadata": {
  "kernelspec": {
   "display_name": "Python 3",
   "language": "python",
   "name": "python3"
  },
  "language_info": {
   "codemirror_mode": {
    "name": "ipython",
    "version": 3
   },
   "file_extension": ".py",
   "mimetype": "text/x-python",
   "name": "python",
   "nbconvert_exporter": "python",
   "pygments_lexer": "ipython3",
   "version": "3.11.8"
  }
 },
 "nbformat": 4,
 "nbformat_minor": 5
}
