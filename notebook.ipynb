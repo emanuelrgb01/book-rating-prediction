{
 "cells": [
  {
   "cell_type": "markdown",
   "id": "3a40c1fb",
   "metadata": {},
   "source": [
    "# Consulta e Preparação de Dados\n",
    "### CMC-13 - Introdução à Ciência de Dados\n",
    "\n",
    "* Emanuel Reinaldo Gomes Bezerra\n",
    "* Pedro Pinheiro Borges"
   ]
  },
  {
   "cell_type": "code",
   "execution_count": 1,
   "id": "c2641af9",
   "metadata": {},
   "outputs": [],
   "source": [
    "import pandas as pd"
   ]
  },
  {
   "cell_type": "markdown",
   "id": "294e4617",
   "metadata": {},
   "source": [
    "### Leitura dos Arquivos de Dados"
   ]
  },
  {
   "cell_type": "code",
   "execution_count": 2,
   "id": "f23e26c7",
   "metadata": {},
   "outputs": [],
   "source": [
    "books = pd.read_csv(\"datasets/books.csv\", delimiter=';')\n",
    "users = pd.read_csv(\"datasets/users.csv\", delimiter=';')\n",
    "ratings = pd.read_csv(\"datasets/ratings.csv\", delimiter=';')"
   ]
  },
  {
   "cell_type": "code",
   "execution_count": 3,
   "id": "c240dd79",
   "metadata": {},
   "outputs": [
    {
     "data": {
      "text/plain": [
       "(Index(['isbn', 'book_title', 'book_author', 'year_of_publication', 'publisher',\n",
       "        'img_l', 'Language', 'Category'],\n",
       "       dtype='object'),\n",
       " Index(['user_id', 'age', 'city', 'state', 'country'], dtype='object'),\n",
       " Index(['isbn', 'user_id', 'rating'], dtype='object'))"
      ]
     },
     "execution_count": 3,
     "metadata": {},
     "output_type": "execute_result"
    }
   ],
   "source": [
    "books.columns, users.columns, ratings.columns"
   ]
  },
  {
   "cell_type": "markdown",
   "id": "2e968cc1",
   "metadata": {},
   "source": [
    "### Criação do Dataset principal"
   ]
  },
  {
   "cell_type": "code",
   "execution_count": 4,
   "id": "099e5e2d",
   "metadata": {},
   "outputs": [],
   "source": [
    "ratings_users = pd.merge(ratings, users, on=\"user_id\", how=\"inner\")\n",
    "dataset = pd.merge(ratings_users, books, on=\"isbn\", how=\"inner\").dropna()"
   ]
  },
  {
   "cell_type": "code",
   "execution_count": 5,
   "id": "a40c0967",
   "metadata": {},
   "outputs": [
    {
     "name": "stdout",
     "output_type": "stream",
     "text": [
      "<class 'pandas.core.frame.DataFrame'>\n",
      "Index: 19720 entries, 0 to 20701\n",
      "Data columns (total 14 columns):\n",
      " #   Column               Non-Null Count  Dtype  \n",
      "---  ------               --------------  -----  \n",
      " 0   isbn                 19720 non-null  object \n",
      " 1   user_id              19720 non-null  int64  \n",
      " 2   rating               19720 non-null  int64  \n",
      " 3   age                  19720 non-null  float64\n",
      " 4   city                 19720 non-null  object \n",
      " 5   state                19720 non-null  object \n",
      " 6   country              19720 non-null  object \n",
      " 7   book_title           19720 non-null  object \n",
      " 8   book_author          19720 non-null  object \n",
      " 9   year_of_publication  19720 non-null  float64\n",
      " 10  publisher            19720 non-null  object \n",
      " 11  img_l                19720 non-null  object \n",
      " 12  Language             19720 non-null  object \n",
      " 13  Category             19720 non-null  object \n",
      "dtypes: float64(2), int64(2), object(10)\n",
      "memory usage: 2.3+ MB\n"
     ]
    }
   ],
   "source": [
    "dataset.info()"
   ]
  },
  {
   "cell_type": "markdown",
   "id": "bce8bd5a",
   "metadata": {},
   "source": [
    "#### Remoção de Colunas\n",
    "Removemos ``isbn`` e ``user_id`` pois são identificadores e não possuem informação atrelada a eles.\n",
    "\n",
    "Removemos ``img_l`` porque é apenas um link para a imagem da capa do livro, sem informação atrelada ao livro.\n",
    "\n",
    "Removemos ``Language`` porque apresenta dois valores únicos (``en`` e ``9``) com pouca ou nenhuma informação atrelada, pois ``9`` não é um indicativo adequado para idioma."
   ]
  },
  {
   "cell_type": "code",
   "execution_count": 6,
   "id": "f52f5222",
   "metadata": {},
   "outputs": [
    {
     "data": {
      "text/plain": [
       "array(['en', '9'], dtype=object)"
      ]
     },
     "execution_count": 6,
     "metadata": {},
     "output_type": "execute_result"
    }
   ],
   "source": [
    "dataset.Language.unique()"
   ]
  },
  {
   "cell_type": "code",
   "execution_count": 7,
   "id": "5a0bb595",
   "metadata": {},
   "outputs": [],
   "source": [
    "dataset = dataset.drop(columns=[\"isbn\", \"user_id\", \"img_l\", \"Language\"])"
   ]
  },
  {
   "cell_type": "markdown",
   "id": "c7b9de01",
   "metadata": {},
   "source": [
    "Removemos as colunas ``city``, ``state``, ``country``, porque não estamos interessados em utilizar localização para determinar a avaliação de uma pessoa em um dado livro."
   ]
  },
  {
   "cell_type": "code",
   "execution_count": 8,
   "id": "e8fa5173",
   "metadata": {},
   "outputs": [
    {
     "name": "stdout",
     "output_type": "stream",
     "text": [
      "147 652 5616\n"
     ]
    }
   ],
   "source": [
    "print(len(dataset.country.unique()), len(dataset.state.unique()), len(dataset.city.unique()))"
   ]
  },
  {
   "cell_type": "code",
   "execution_count": 9,
   "id": "796014d7",
   "metadata": {},
   "outputs": [],
   "source": [
    "dataset = dataset.drop(columns=[\"country\", \"state\", \"city\"])"
   ]
  },
  {
   "cell_type": "markdown",
   "id": "f37eb3cf",
   "metadata": {},
   "source": [
    "Análise das colunas ``book_author``, ``book_title`` e ``category``\n",
    "* Existem algumas linhas cujo ``category`` é ``9``. Iremos remover esses exemplares porque isto aparenta ser problema de qualidade dos dados.\n",
    "* Posso fazer \n",
    "  * Label Encoding se quiser trabalhar com classificação com Árvores\n",
    "  * Embeddings, se quiser usar redes neurais"
   ]
  },
  {
   "cell_type": "code",
   "execution_count": 49,
   "id": "ef3995c6",
   "metadata": {},
   "outputs": [
    {
     "data": {
      "text/plain": [
       "643"
      ]
     },
     "execution_count": 49,
     "metadata": {},
     "output_type": "execute_result"
    }
   ],
   "source": [
    "len(dataset.book_title.unique())"
   ]
  },
  {
   "cell_type": "code",
   "execution_count": 50,
   "id": "80105d6b",
   "metadata": {},
   "outputs": [
    {
     "data": {
      "text/plain": [
       "643"
      ]
     },
     "execution_count": 50,
     "metadata": {},
     "output_type": "execute_result"
    }
   ],
   "source": [
    "len(dataset.book_title.str.lower().unique())"
   ]
  },
  {
   "cell_type": "code",
   "execution_count": 22,
   "id": "286a27dd",
   "metadata": {},
   "outputs": [],
   "source": [
    "#dataset.book_title.str.replace('[^a-zA-Z0-9]', ' ', regex=True).str.strip().unique()"
   ]
  },
  {
   "cell_type": "code",
   "execution_count": 33,
   "id": "68506720",
   "metadata": {},
   "outputs": [],
   "source": [
    "dataset.Category = dataset.Category.str.lower()"
   ]
  },
  {
   "cell_type": "code",
   "execution_count": 47,
   "id": "335a20d3",
   "metadata": {},
   "outputs": [
    {
     "data": {
      "text/plain": [
       "Category\n",
       "['fiction']                                                       10837\n",
       "['juvenile fiction']                                                504\n",
       "['biography & autobiography']                                       469\n",
       "['history']                                                         154\n",
       "['humor']                                                           115\n",
       "['self-help']                                                        91\n",
       "['business & economics']                                             83\n",
       "['diary fiction']                                                    67\n",
       "['geishas']                                                          52\n",
       "['political science']                                                47\n",
       "['fathers and sons']                                                 44\n",
       "['chocolate']                                                        43\n",
       "['rapture (christian eschatology)']                                  42\n",
       "['british and irish fiction (fictional works by one author).']       41\n",
       "['travel']                                                           39\n",
       "['nature']                                                           38\n",
       "['middle west']                                                      34\n",
       "['arctic regions']                                                   31\n",
       "['family & relationships']                                           30\n",
       "['african american men']                                             28\n",
       "['health & fitness']                                                 28\n",
       "['abortion']                                                         26\n",
       "['london (england)']                                                 25\n",
       "['medical']                                                          24\n",
       "['intelligence service']                                             24\n",
       "['adultery']                                                         23\n",
       "['dent, arthur (fictitious character)']                              23\n",
       "['true crime']                                                       20\n",
       "['african american women']                                           19\n",
       "['character']                                                        19\n",
       "['religion']                                                         19\n",
       "['materia medica']                                                   19\n",
       "['pets']                                                             17\n",
       "['domestic fiction']                                                 16\n",
       "['adulteresses']                                                     16\n",
       "['horror tales']                                                     15\n",
       "['community colleges']                                               15\n",
       "['interpersonal relations']                                          13\n",
       "['law']                                                              13\n",
       "['body, mind & spirit']                                              12\n",
       "['actors']                                                           10\n",
       "['detective and mystery stories']                                    10\n",
       "['conduct of life']                                                  10\n",
       "['trials (murder)']                                                   9\n",
       "['california']                                                        8\n",
       "['americans']                                                         8\n",
       "['businessmen']                                                       7\n",
       "['aircraft accidents']                                                7\n",
       "['literary collections']                                              5\n",
       "['artificial intelligence']                                           5\n",
       "['crisis management in government']                                   4\n",
       "['cousins']                                                           3\n",
       "Name: count, dtype: int64"
      ]
     },
     "execution_count": 47,
     "metadata": {},
     "output_type": "execute_result"
    }
   ],
   "source": [
    "dataset.Category.value_counts()"
   ]
  },
  {
   "cell_type": "code",
   "execution_count": 42,
   "id": "e60035bf",
   "metadata": {},
   "outputs": [],
   "source": [
    "dataset = dataset[dataset[\"Category\"] != \"9\"]"
   ]
  },
  {
   "cell_type": "code",
   "execution_count": null,
   "id": "eebeb07a",
   "metadata": {},
   "outputs": [],
   "source": []
  },
  {
   "cell_type": "code",
   "execution_count": 12,
   "id": "7748042c",
   "metadata": {},
   "outputs": [],
   "source": [
    "#dataset.plot(y=\"rating\", x=\"age\", kind=\"scatter\")"
   ]
  },
  {
   "cell_type": "code",
   "execution_count": null,
   "id": "b17ee8b4",
   "metadata": {},
   "outputs": [],
   "source": []
  }
 ],
 "metadata": {
  "kernelspec": {
   "display_name": "Python 3",
   "language": "python",
   "name": "python3"
  },
  "language_info": {
   "codemirror_mode": {
    "name": "ipython",
    "version": 3
   },
   "file_extension": ".py",
   "mimetype": "text/x-python",
   "name": "python",
   "nbconvert_exporter": "python",
   "pygments_lexer": "ipython3",
   "version": "3.11.8"
  }
 },
 "nbformat": 4,
 "nbformat_minor": 5
}
